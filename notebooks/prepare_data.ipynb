{
 "cells": [
  {
   "cell_type": "code",
   "execution_count": null,
   "id": "693b2706-e131-4115-b247-d8dc0e4ec491",
   "metadata": {},
   "outputs": [],
   "source": []
  },
  {
   "cell_type": "markdown",
   "id": "049e036a-1da8-496b-8ec7-ad953f161121",
   "metadata": {},
   "source": [
    "\n",
    "#### Prep\n",
    "load data\n",
    "\n",
    "set dtypes\n",
    "\n",
    "fill nulls\n",
    "\n",
    "join onto base\n",
    "\n",
    "feature engineering\n",
    "- check corr and drop columns where corr is high\n",
    "- label/categorical encoding\n",
    "- smoothing (kernel regression) on float cols\n",
    "- clustering & pca\n",
    "\n",
    "split into train/test\n",
    "\n",
    "write train/test into a specified directory\n",
    "\n",
    "use above prepared data for training models\n",
    "\n",
    "#### Modelling\n",
    "combination of clustering and dim reduction prior to modelling\n"
   ]
  },
  {
   "cell_type": "code",
   "execution_count": null,
   "id": "f773141b-2815-4cd7-a8f3-1a8c3bbffa8a",
   "metadata": {},
   "outputs": [],
   "source": []
  },
  {
   "cell_type": "code",
   "execution_count": null,
   "id": "0866fc1f-4f16-4090-a99a-e30c1b90209c",
   "metadata": {},
   "outputs": [],
   "source": []
  },
  {
   "cell_type": "code",
   "execution_count": null,
   "id": "df88a3a3-b9b8-46b3-a8fe-20664c4b2258",
   "metadata": {},
   "outputs": [],
   "source": []
  }
 ],
 "metadata": {
  "kernelspec": {
   "display_name": "Python 3 (ipykernel)",
   "language": "python",
   "name": "python3"
  },
  "language_info": {
   "codemirror_mode": {
    "name": "ipython",
    "version": 3
   },
   "file_extension": ".py",
   "mimetype": "text/x-python",
   "name": "python",
   "nbconvert_exporter": "python",
   "pygments_lexer": "ipython3",
   "version": "3.11.7"
  }
 },
 "nbformat": 4,
 "nbformat_minor": 5
}
