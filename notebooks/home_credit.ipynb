{
 "cells": [
  {
   "cell_type": "code",
   "execution_count": 2,
   "id": "0f91c32b-9484-4a3a-8bac-3ae087d27881",
   "metadata": {},
   "outputs": [],
   "source": [
    "# !pip install polars\n",
    "# !pip install pyarrow\n",
    "# !pip install -U scikit-learn\n",
    "# !pip install lightgbm"
   ]
  },
  {
   "cell_type": "code",
   "execution_count": 3,
   "id": "8df70950-d6a3-4f86-9e64-e89121373768",
   "metadata": {},
   "outputs": [],
   "source": [
    "import os\n",
    "import gc\n",
    "from pathlib import Path\n",
    "\n",
    "import numpy as np\n",
    "import polars as pl\n",
    "import polars.selectors as cs\n",
    "import pandas as pd\n",
    "\n",
    "from sklearn.model_selection import train_test_split\n",
    "from sklearn.metrics import roc_auc_score, f1_score, precision_score, recall_score\n",
    "\n",
    "import lightgbm as lgb"
   ]
  },
  {
   "cell_type": "code",
   "execution_count": 4,
   "id": "67f20d60-dfb2-47df-a49e-8f67b30bad5d",
   "metadata": {},
   "outputs": [],
   "source": [
    "# for k,v  in os.environ.items():\n",
    "#     if \"smouz\" in v:\n",
    "#         print(k, \":\", v)"
   ]
  },
  {
   "cell_type": "markdown",
   "id": "b12b02f6-31cc-47b0-b865-a9e4287b9f1b",
   "metadata": {},
   "source": [
    "### Data Dictionary\n",
    "\n",
    "https://www.kaggle.com/code/jetakow/home-credit-2024-starter-notebook\n",
    "\n",
    "https://www.kaggle.com/competitions/home-credit-credit-risk-model-stability/data\n",
    "\n",
    "Depth values:\n",
    "\n",
    "- depth=0: These are static features directly tied to a specific case_id\n",
    "- depth=1: Each case_id has an associated historical record, indexed by num_group 1.\n",
    "- depth=2: Each case_id has an associated historical record, indexed by both num_group1 and num_group2.\n",
    "\n",
    "You can read more about Credit bureau (CB) here https://en.wikipedia.org/wiki/Credit_bureau."
   ]
  },
  {
   "cell_type": "code",
   "execution_count": 5,
   "id": "7a728bc5-b072-4b10-ab3e-cd7d8375bbbd",
   "metadata": {},
   "outputs": [],
   "source": [
    "def set_table_dtypes(df: pl.DataFrame) -> pl.DataFrame:\n",
    "    # implement here all desired dtypes for tables\n",
    "    # the following is just an example\n",
    "    for col in df.columns:\n",
    "        # last letter of column name will help you determine the type\n",
    "        if col[-1] in (\"P\", \"A\"):\n",
    "            df = df.with_columns(pl.col(col).cast(pl.Float64).alias(col))\n",
    "    return df\n",
    "\n",
    "def convert_strings(df: pd.DataFrame) -> pd.DataFrame:\n",
    "    for col in df.columns:  \n",
    "        if df[col].dtype.name in ['object', 'string']:\n",
    "            df[col] = df[col].astype(\"string\").astype('category')\n",
    "            current_categories = df[col].cat.categories\n",
    "            new_categories = current_categories.to_list() + [\"Unknown\"]\n",
    "            new_dtype = pd.CategoricalDtype(categories=new_categories, ordered=True)\n",
    "            df[col] = df[col].astype(new_dtype)\n",
    "    return df\n",
    "\n",
    "\n",
    "def fill_missing(df: pd.DataFrame) -> pd.DataFrame:\n",
    "    numeric_columns = [x for x in df.columns if 'int' in df[x].dtype.name or 'float' in df[x].dtype.name]\n",
    "    str_columns = [x for x in df.columns if 'category' in df[x].dtype.name or 'string' in df[x].dtype.name]\n",
    "    object_columns = [x for x in df.columns if 'object' in df[x].dtype.name]\n",
    "    bool_columns = [x for x in df.columns if 'bool' in df[x].dtype.name]\n",
    "    assert len(str_columns) + len(numeric_columns) + len(object_columns) + len(bool_columns) == df.shape[1]\n",
    "\n",
    "    df[numeric_columns].fillna(0.0, inplace=True)\n",
    "    df[str_columns] = df[str_columns].astype(str).fillna(\"-1\").astype('category')\n",
    "    df[bool_columns].fillna(False, inplace=True)\n",
    "    return df"
   ]
  },
  {
   "cell_type": "markdown",
   "id": "cf4a0a3e-82b7-4c72-9569-4c2b527f682c",
   "metadata": {},
   "source": [
    "## Read Files"
   ]
  },
  {
   "cell_type": "markdown",
   "id": "3d937aa4-56c1-4427-af2b-fac5f48b88e0",
   "metadata": {},
   "source": [
    "### base file"
   ]
  },
  {
   "cell_type": "code",
   "execution_count": 6,
   "id": "acb71e05-8fb0-4eff-95ec-7448b34dac35",
   "metadata": {},
   "outputs": [
    {
     "data": {
      "text/plain": [
       "[WindowsPath('I:smouz/data/Home Credit - Credit Risk Model Stability/parquet_files/train/train_credit_bureau_a_2_9.parquet'),\n",
       " WindowsPath('I:smouz/data/Home Credit - Credit Risk Model Stability/parquet_files/train/train_credit_bureau_b_1.parquet'),\n",
       " WindowsPath('I:smouz/data/Home Credit - Credit Risk Model Stability/parquet_files/train/train_credit_bureau_b_2.parquet')]"
      ]
     },
     "execution_count": 6,
     "metadata": {},
     "output_type": "execute_result"
    }
   ],
   "source": [
    "DRIVE= \"I:\"\n",
    "USERNAME = os.environ['USERNAME']\n",
    "\n",
    "DATA_DIR = Path(DRIVE).joinpath(USERNAME, \"data\", \"Home Credit - Credit Risk Model Stability\")\n",
    "DATA_FILES_DIR = DATA_DIR.joinpath(\"parquet_files\")\n",
    "DATA_FILES_DIR\n",
    "\n",
    "filename = DATA_FILES_DIR.joinpath(\"train\", \"train_base.parquet\")\n",
    "train_basetable = pl.read_parquet(filename)\n",
    "\n",
    "CREDIT_BUREAU_FILES = DATA_FILES_DIR.joinpath(\"train\").glob(\"*credit_bureau_*parquet\")\n",
    "PERSON_FILES = DATA_FILES_DIR.joinpath(\"train\").glob(\"*person_*parquet\")\n",
    "STATIC_FILES = DATA_FILES_DIR.joinpath(\"train\").glob(\"*static_0_*parquet\")\n",
    "STATIC_CB_FILES = DATA_FILES_DIR.joinpath(\"train\").glob(\"*static_cb_*parquet\")\n",
    "APPLPREV_FILES = DATA_FILES_DIR.joinpath(\"train\").glob(\"*applprev_*parquet\")\n",
    "DEBIT_FILES = DATA_FILES_DIR.joinpath(\"train\").glob(\"*debitcard_*parquet\")\n",
    "DEPOSIT_FILES = DATA_FILES_DIR.joinpath(\"train\").glob(\"*deposit_*parquet\")\n",
    "TAX_REG_FILES = DATA_FILES_DIR.joinpath(\"train\").glob(\"*tax_registry_*parquet\")\n",
    "OTHER_FILES = DATA_FILES_DIR.joinpath(\"train\").glob(\"*other_*parquet\")\n",
    "\n",
    "PERSON_FILES_LIST = list(PERSON_FILES)\n",
    "CREDIT_BUREAU_FILES_LIST = list(CREDIT_BUREAU_FILES)\n",
    "CREDIT_BUREAU_FILES_LIST[-3:]"
   ]
  },
  {
   "cell_type": "code",
   "execution_count": 7,
   "id": "2048b097-01fc-4a61-a12b-43c333d579a1",
   "metadata": {},
   "outputs": [
    {
     "data": {
      "text/plain": [
       "0"
      ]
     },
     "execution_count": 7,
     "metadata": {},
     "output_type": "execute_result"
    }
   ],
   "source": [
    "# filename = DATA_FILES_DIR.joinpath(\"train\", \"train_static_cb_0.parquet\")\n",
    "# static_df = pl.read_parquet(filename)\n",
    "\n",
    "train_static = pl.concat(\n",
    "    [\n",
    "        pl.read_parquet(filepath).pipe(set_table_dtypes) for filepath in STATIC_FILES\n",
    "    ],\n",
    "    how=\"vertical_relaxed\",\n",
    ")\n",
    "\n",
    "train_static_cb = pl.concat(\n",
    "    [\n",
    "         pl.read_parquet(filepath).pipe(set_table_dtypes) for filepath in STATIC_CB_FILES      \n",
    "    ],\n",
    "    how='vertical_relaxed'\n",
    ")\n",
    "\n",
    "\n",
    "train_person_1 = pl.read_parquet(str(PERSON_FILES_LIST[0])).pipe(set_table_dtypes)\n",
    "train_person_2 = pl.read_parquet(str(PERSON_FILES_LIST[1])).pipe(set_table_dtypes)\n",
    "\n",
    "# train_credit_bureau_b_2 = pl.concat(\n",
    "#     [\n",
    "#          pl.read_parquet(filepath).pipe(set_table_dtypes) for filepath in CREDIT_BUREAU_FILES      \n",
    "#     ],\n",
    "#     how='vertical_relaxed'\n",
    "# )\n",
    "\n",
    "train_credit_bureau_b_2 = pl.concat(\n",
    "    [\n",
    "         pl.read_parquet(filepath).pipe(set_table_dtypes) for filepath in CREDIT_BUREAU_FILES_LIST[:3]      \n",
    "    ],\n",
    "    how='vertical_relaxed'\n",
    ")\n",
    "gc.collect()"
   ]
  },
  {
   "cell_type": "code",
   "execution_count": 8,
   "id": "20930c77-fb6e-4900-b22d-2db29e52f29e",
   "metadata": {},
   "outputs": [
    {
     "data": {
      "text/plain": [
       "1745.8659162521362"
      ]
     },
     "execution_count": 8,
     "metadata": {},
     "output_type": "execute_result"
    }
   ],
   "source": [
    "train_static.estimated_size() / 1024**2"
   ]
  },
  {
   "cell_type": "code",
   "execution_count": 9,
   "id": "6c3d1831-143e-46cd-a071-9080dfaecc12",
   "metadata": {},
   "outputs": [
    {
     "data": {
      "text/html": [
       "<div><style>\n",
       ".dataframe > thead > tr,\n",
       ".dataframe > tbody > tr {\n",
       "  text-align: right;\n",
       "  white-space: pre-wrap;\n",
       "}\n",
       "</style>\n",
       "<small>shape: (3, 53)</small><table border=\"1\" class=\"dataframe\"><thead><tr><th>case_id</th><th>assignmentdate_238D</th><th>assignmentdate_4527235D</th><th>assignmentdate_4955616D</th><th>birthdate_574D</th><th>contractssum_5085716L</th><th>dateofbirth_337D</th><th>dateofbirth_342D</th><th>days120_123L</th><th>days180_256L</th><th>days30_165L</th><th>days360_512L</th><th>days90_310L</th><th>description_5085714M</th><th>education_1103M</th><th>education_88M</th><th>firstquarter_103L</th><th>for3years_128L</th><th>for3years_504L</th><th>for3years_584L</th><th>formonth_118L</th><th>formonth_206L</th><th>formonth_535L</th><th>forquarter_1017L</th><th>forquarter_462L</th><th>forquarter_634L</th><th>fortoday_1092L</th><th>forweek_1077L</th><th>forweek_528L</th><th>forweek_601L</th><th>foryear_618L</th><th>foryear_818L</th><th>foryear_850L</th><th>fourthquarter_440L</th><th>maritalst_385M</th><th>maritalst_893M</th><th>numberofqueries_373L</th><th>pmtaverage_3A</th><th>pmtaverage_4527227A</th><th>pmtaverage_4955615A</th><th>pmtcount_4527229L</th><th>pmtcount_4955617L</th><th>pmtcount_693L</th><th>pmtscount_423L</th><th>pmtssum_45A</th><th>requesttype_4525192L</th><th>responsedate_1012D</th><th>responsedate_4527233D</th><th>responsedate_4917613D</th><th>riskassesment_302T</th><th>riskassesment_940T</th><th>secondquarter_766L</th><th>thirdquarter_1082L</th></tr><tr><td>i64</td><td>str</td><td>str</td><td>str</td><td>str</td><td>f64</td><td>str</td><td>str</td><td>f64</td><td>f64</td><td>f64</td><td>f64</td><td>f64</td><td>str</td><td>str</td><td>str</td><td>f64</td><td>f64</td><td>f64</td><td>f64</td><td>f64</td><td>f64</td><td>f64</td><td>f64</td><td>f64</td><td>f64</td><td>f64</td><td>f64</td><td>f64</td><td>f64</td><td>f64</td><td>f64</td><td>f64</td><td>f64</td><td>str</td><td>str</td><td>f64</td><td>f64</td><td>f64</td><td>f64</td><td>f64</td><td>f64</td><td>f64</td><td>f64</td><td>f64</td><td>str</td><td>str</td><td>str</td><td>str</td><td>str</td><td>f64</td><td>f64</td><td>f64</td></tr></thead><tbody><tr><td>357</td><td>null</td><td>null</td><td>null</td><td>&quot;1988-04-01&quot;</td><td>null</td><td>null</td><td>null</td><td>null</td><td>null</td><td>null</td><td>null</td><td>null</td><td>&quot;a55475b1&quot;</td><td>&quot;a55475b1&quot;</td><td>&quot;a55475b1&quot;</td><td>null</td><td>null</td><td>null</td><td>null</td><td>null</td><td>null</td><td>null</td><td>null</td><td>null</td><td>null</td><td>null</td><td>null</td><td>null</td><td>null</td><td>null</td><td>null</td><td>null</td><td>null</td><td>&quot;a55475b1&quot;</td><td>&quot;a55475b1&quot;</td><td>null</td><td>null</td><td>null</td><td>null</td><td>null</td><td>null</td><td>null</td><td>6.0</td><td>6301.4</td><td>null</td><td>&quot;2019-01-25&quot;</td><td>null</td><td>null</td><td>null</td><td>null</td><td>null</td><td>null</td></tr><tr><td>381</td><td>null</td><td>null</td><td>null</td><td>&quot;1973-11-01&quot;</td><td>null</td><td>null</td><td>null</td><td>null</td><td>null</td><td>null</td><td>null</td><td>null</td><td>&quot;a55475b1&quot;</td><td>&quot;a55475b1&quot;</td><td>&quot;a55475b1&quot;</td><td>null</td><td>null</td><td>null</td><td>null</td><td>null</td><td>null</td><td>null</td><td>null</td><td>null</td><td>null</td><td>null</td><td>null</td><td>null</td><td>null</td><td>null</td><td>null</td><td>null</td><td>null</td><td>&quot;a55475b1&quot;</td><td>&quot;a55475b1&quot;</td><td>null</td><td>null</td><td>null</td><td>null</td><td>null</td><td>null</td><td>null</td><td>6.0</td><td>4019.6</td><td>null</td><td>&quot;2019-01-25&quot;</td><td>null</td><td>null</td><td>null</td><td>null</td><td>null</td><td>null</td></tr><tr><td>388</td><td>null</td><td>null</td><td>null</td><td>&quot;1989-04-01&quot;</td><td>null</td><td>&quot;1989-04-01&quot;</td><td>null</td><td>6.0</td><td>8.0</td><td>2.0</td><td>10.0</td><td>4.0</td><td>&quot;a55475b1&quot;</td><td>&quot;a55475b1&quot;</td><td>&quot;a55475b1&quot;</td><td>2.0</td><td>null</td><td>null</td><td>null</td><td>null</td><td>null</td><td>null</td><td>null</td><td>null</td><td>null</td><td>null</td><td>null</td><td>null</td><td>null</td><td>null</td><td>null</td><td>null</td><td>6.0</td><td>&quot;a55475b1&quot;</td><td>&quot;a55475b1&quot;</td><td>10.0</td><td>null</td><td>null</td><td>null</td><td>null</td><td>null</td><td>null</td><td>6.0</td><td>14548.0</td><td>null</td><td>&quot;2019-01-28&quot;</td><td>null</td><td>null</td><td>null</td><td>null</td><td>3.0</td><td>5.0</td></tr></tbody></table></div>"
      ],
      "text/plain": [
       "shape: (3, 53)\n",
       "┌─────────┬──────────────┬──────────────┬──────────────┬───┬──────────────┬──────────────┬──────────────┬──────────────┐\n",
       "│ case_id ┆ assignmentda ┆ assignmentda ┆ assignmentda ┆ … ┆ riskassesmen ┆ riskassesmen ┆ secondquarte ┆ thirdquarter │\n",
       "│ ---     ┆ te_238D      ┆ te_4527235D  ┆ te_4955616D  ┆   ┆ t_302T       ┆ t_940T       ┆ r_766L       ┆ _1082L       │\n",
       "│ i64     ┆ ---          ┆ ---          ┆ ---          ┆   ┆ ---          ┆ ---          ┆ ---          ┆ ---          │\n",
       "│         ┆ str          ┆ str          ┆ str          ┆   ┆ str          ┆ f64          ┆ f64          ┆ f64          │\n",
       "╞═════════╪══════════════╪══════════════╪══════════════╪═══╪══════════════╪══════════════╪══════════════╪══════════════╡\n",
       "│ 357     ┆ null         ┆ null         ┆ null         ┆ … ┆ null         ┆ null         ┆ null         ┆ null         │\n",
       "│ 381     ┆ null         ┆ null         ┆ null         ┆ … ┆ null         ┆ null         ┆ null         ┆ null         │\n",
       "│ 388     ┆ null         ┆ null         ┆ null         ┆ … ┆ null         ┆ null         ┆ 3.0          ┆ 5.0          │\n",
       "└─────────┴──────────────┴──────────────┴──────────────┴───┴──────────────┴──────────────┴──────────────┴──────────────┘"
      ]
     },
     "execution_count": 9,
     "metadata": {},
     "output_type": "execute_result"
    }
   ],
   "source": [
    "train_static_cb.head(3)"
   ]
  },
  {
   "cell_type": "markdown",
   "id": "901bd0fa-db1a-48a3-894d-c9dfe4751123",
   "metadata": {},
   "source": [
    "#### train_static\n",
    "each row contain unique case_id"
   ]
  },
  {
   "cell_type": "code",
   "execution_count": 10,
   "id": "d959f968-430c-4032-8ae8-f014ee42732c",
   "metadata": {},
   "outputs": [
    {
     "data": {
      "text/html": [
       "<div><style>\n",
       ".dataframe > thead > tr,\n",
       ".dataframe > tbody > tr {\n",
       "  text-align: right;\n",
       "  white-space: pre-wrap;\n",
       "}\n",
       "</style>\n",
       "<small>shape: (3, 168)</small><table border=\"1\" class=\"dataframe\"><thead><tr><th>case_id</th><th>actualdpdtolerance_344P</th><th>amtinstpaidbefduel24m_4187115A</th><th>annuity_780A</th><th>annuitynextmonth_57A</th><th>applicationcnt_361L</th><th>applications30d_658L</th><th>applicationscnt_1086L</th><th>applicationscnt_464L</th><th>applicationscnt_629L</th><th>applicationscnt_867L</th><th>avgdbddpdlast24m_3658932P</th><th>avgdbddpdlast3m_4187120P</th><th>avgdbdtollast24m_4525197P</th><th>avgdpdtolclosure24_3658938P</th><th>avginstallast24m_3658937A</th><th>avglnamtstart24m_4525187A</th><th>avgmaxdpdlast9m_3716943P</th><th>avgoutstandbalancel6m_4187114A</th><th>avgpmtlast12m_4525200A</th><th>bankacctype_710L</th><th>cardtype_51L</th><th>clientscnt12m_3712952L</th><th>clientscnt3m_3712950L</th><th>clientscnt6m_3712949L</th><th>clientscnt_100L</th><th>clientscnt_1022L</th><th>clientscnt_1071L</th><th>clientscnt_1130L</th><th>clientscnt_136L</th><th>clientscnt_157L</th><th>clientscnt_257L</th><th>clientscnt_304L</th><th>clientscnt_360L</th><th>clientscnt_493L</th><th>clientscnt_533L</th><th>clientscnt_887L</th><th>&hellip;</th><th>numinstpaidearlyest_4493214L</th><th>numinstpaidlastcontr_4325080L</th><th>numinstpaidlate1d_3546852L</th><th>numinstregularpaid_973L</th><th>numinstregularpaidest_4493210L</th><th>numinsttopaygr_769L</th><th>numinsttopaygrest_4493213L</th><th>numinstunpaidmax_3546851L</th><th>numinstunpaidmaxest_4493212L</th><th>numnotactivated_1143L</th><th>numpmtchanneldd_318L</th><th>numrejects9m_859L</th><th>opencred_647L</th><th>paytype1st_925L</th><th>paytype_783L</th><th>payvacationpostpone_4187118D</th><th>pctinstlsallpaidearl3d_427L</th><th>pctinstlsallpaidlat10d_839L</th><th>pctinstlsallpaidlate1d_3546856L</th><th>pctinstlsallpaidlate4d_3546849L</th><th>pctinstlsallpaidlate6d_3546844L</th><th>pmtnum_254L</th><th>posfpd10lastmonth_333P</th><th>posfpd30lastmonth_3976960P</th><th>posfstqpd30lastmonth_3976962P</th><th>previouscontdistrict_112M</th><th>price_1097A</th><th>sellerplacecnt_915L</th><th>sellerplacescnt_216L</th><th>sumoutstandtotal_3546847A</th><th>sumoutstandtotalest_4493215A</th><th>totaldebt_9A</th><th>totalsettled_863A</th><th>totinstallast1m_4525188A</th><th>twobodfilling_608L</th><th>typesuite_864L</th><th>validfrom_1069D</th></tr><tr><td>i64</td><td>f64</td><td>f64</td><td>f64</td><td>f64</td><td>f64</td><td>f64</td><td>f64</td><td>f64</td><td>f64</td><td>f64</td><td>f64</td><td>f64</td><td>f64</td><td>f64</td><td>f64</td><td>f64</td><td>f64</td><td>f64</td><td>f64</td><td>str</td><td>str</td><td>f64</td><td>f64</td><td>f64</td><td>f64</td><td>f64</td><td>f64</td><td>f64</td><td>f64</td><td>f64</td><td>f64</td><td>f64</td><td>f64</td><td>f64</td><td>f64</td><td>f64</td><td>&hellip;</td><td>f64</td><td>f64</td><td>f64</td><td>f64</td><td>f64</td><td>f64</td><td>f64</td><td>f64</td><td>f64</td><td>f64</td><td>f64</td><td>f64</td><td>bool</td><td>str</td><td>str</td><td>str</td><td>f64</td><td>f64</td><td>f64</td><td>f64</td><td>f64</td><td>f64</td><td>f64</td><td>f64</td><td>f64</td><td>str</td><td>f64</td><td>f64</td><td>f64</td><td>f64</td><td>f64</td><td>f64</td><td>f64</td><td>f64</td><td>str</td><td>str</td><td>str</td></tr></thead><tbody><tr><td>0</td><td>null</td><td>null</td><td>1917.6</td><td>0.0</td><td>0.0</td><td>0.0</td><td>0.0</td><td>0.0</td><td>0.0</td><td>0.0</td><td>null</td><td>null</td><td>null</td><td>null</td><td>null</td><td>null</td><td>null</td><td>null</td><td>null</td><td>null</td><td>null</td><td>0.0</td><td>0.0</td><td>0.0</td><td>0.0</td><td>0.0</td><td>0.0</td><td>0.0</td><td>null</td><td>0.0</td><td>0.0</td><td>0.0</td><td>0.0</td><td>0.0</td><td>0.0</td><td>0.0</td><td>&hellip;</td><td>null</td><td>null</td><td>null</td><td>null</td><td>null</td><td>null</td><td>null</td><td>null</td><td>null</td><td>0.0</td><td>0.0</td><td>0.0</td><td>null</td><td>&quot;OTHER&quot;</td><td>&quot;OTHER&quot;</td><td>null</td><td>null</td><td>null</td><td>null</td><td>null</td><td>null</td><td>24.0</td><td>0.0</td><td>0.0</td><td>null</td><td>&quot;a55475b1&quot;</td><td>null</td><td>0.0</td><td>0.0</td><td>null</td><td>null</td><td>0.0</td><td>0.0</td><td>null</td><td>&quot;BO&quot;</td><td>null</td><td>null</td></tr><tr><td>1</td><td>null</td><td>null</td><td>3134.0</td><td>0.0</td><td>0.0</td><td>0.0</td><td>0.0</td><td>0.0</td><td>0.0</td><td>0.0</td><td>null</td><td>null</td><td>null</td><td>null</td><td>null</td><td>null</td><td>null</td><td>null</td><td>null</td><td>null</td><td>null</td><td>0.0</td><td>0.0</td><td>0.0</td><td>0.0</td><td>0.0</td><td>0.0</td><td>0.0</td><td>0.0</td><td>3.0</td><td>0.0</td><td>0.0</td><td>0.0</td><td>0.0</td><td>0.0</td><td>0.0</td><td>&hellip;</td><td>null</td><td>null</td><td>null</td><td>null</td><td>null</td><td>null</td><td>null</td><td>null</td><td>null</td><td>0.0</td><td>0.0</td><td>0.0</td><td>null</td><td>&quot;OTHER&quot;</td><td>&quot;OTHER&quot;</td><td>null</td><td>null</td><td>null</td><td>null</td><td>null</td><td>null</td><td>18.0</td><td>0.0</td><td>0.0</td><td>null</td><td>&quot;a55475b1&quot;</td><td>null</td><td>0.0</td><td>0.0</td><td>null</td><td>null</td><td>0.0</td><td>0.0</td><td>null</td><td>&quot;BO&quot;</td><td>null</td><td>null</td></tr><tr><td>2</td><td>null</td><td>null</td><td>4937.0</td><td>0.0</td><td>0.0</td><td>0.0</td><td>0.0</td><td>0.0</td><td>0.0</td><td>0.0</td><td>null</td><td>null</td><td>null</td><td>null</td><td>null</td><td>null</td><td>null</td><td>null</td><td>null</td><td>null</td><td>null</td><td>0.0</td><td>0.0</td><td>0.0</td><td>0.0</td><td>0.0</td><td>0.0</td><td>0.0</td><td>null</td><td>0.0</td><td>0.0</td><td>0.0</td><td>0.0</td><td>0.0</td><td>0.0</td><td>0.0</td><td>&hellip;</td><td>null</td><td>null</td><td>null</td><td>null</td><td>null</td><td>null</td><td>null</td><td>null</td><td>null</td><td>0.0</td><td>0.0</td><td>0.0</td><td>false</td><td>&quot;OTHER&quot;</td><td>&quot;OTHER&quot;</td><td>null</td><td>null</td><td>null</td><td>null</td><td>null</td><td>null</td><td>36.0</td><td>0.0</td><td>0.0</td><td>null</td><td>&quot;a55475b1&quot;</td><td>null</td><td>0.0</td><td>0.0</td><td>null</td><td>null</td><td>0.0</td><td>0.0</td><td>null</td><td>&quot;BO&quot;</td><td>&quot;AL&quot;</td><td>null</td></tr></tbody></table></div>"
      ],
      "text/plain": [
       "shape: (3, 168)\n",
       "┌─────────┬──────────────┬──────────────┬──────────────┬───┬──────────────┬──────────────┬──────────────┬──────────────┐\n",
       "│ case_id ┆ actualdpdtol ┆ amtinstpaidb ┆ annuity_780A ┆ … ┆ totinstallas ┆ twobodfillin ┆ typesuite_86 ┆ validfrom_10 │\n",
       "│ ---     ┆ erance_344P  ┆ efduel24m_41 ┆ ---          ┆   ┆ t1m_4525188A ┆ g_608L       ┆ 4L           ┆ 69D          │\n",
       "│ i64     ┆ ---          ┆ 87115A       ┆ f64          ┆   ┆ ---          ┆ ---          ┆ ---          ┆ ---          │\n",
       "│         ┆ f64          ┆ ---          ┆              ┆   ┆ f64          ┆ str          ┆ str          ┆ str          │\n",
       "│         ┆              ┆ f64          ┆              ┆   ┆              ┆              ┆              ┆              │\n",
       "╞═════════╪══════════════╪══════════════╪══════════════╪═══╪══════════════╪══════════════╪══════════════╪══════════════╡\n",
       "│ 0       ┆ null         ┆ null         ┆ 1917.6       ┆ … ┆ null         ┆ BO           ┆ null         ┆ null         │\n",
       "│ 1       ┆ null         ┆ null         ┆ 3134.0       ┆ … ┆ null         ┆ BO           ┆ null         ┆ null         │\n",
       "│ 2       ┆ null         ┆ null         ┆ 4937.0       ┆ … ┆ null         ┆ BO           ┆ AL           ┆ null         │\n",
       "└─────────┴──────────────┴──────────────┴──────────────┴───┴──────────────┴──────────────┴──────────────┴──────────────┘"
      ]
     },
     "execution_count": 10,
     "metadata": {},
     "output_type": "execute_result"
    }
   ],
   "source": [
    "train_static.head(3)"
   ]
  },
  {
   "cell_type": "code",
   "execution_count": 11,
   "id": "43d350b8-393d-44bd-8a92-5a6d2c8446a4",
   "metadata": {},
   "outputs": [],
   "source": [
    "def drop_columns_by_nulls(df: pl.DataFrame, null_threshold: float, dry_run: bool=False) -> pl.DataFrame:\n",
    "    null_count = (train_static.null_count() / train_static.shape[0]).to_pandas()\n",
    "    drop_cols = null_count.T[null_count.T.values >= null_threshold].index.tolist()\n",
    "    print(f\"Drop columns: {len(drop_cols)}, Nulls >= {null_threshold}\")\n",
    "    if dry_run:\n",
    "        print(f\"Columns exceeding threshold ({null_threshold}):\\n\\t{drop_cols}\")\n",
    "        return\n",
    "    return df.drop(drop_cols)"
   ]
  },
  {
   "cell_type": "code",
   "execution_count": 12,
   "id": "442287aa-0d85-4884-8819-7099eb36b794",
   "metadata": {},
   "outputs": [
    {
     "name": "stdout",
     "output_type": "stream",
     "text": [
      "Drop columns: 17, Nulls >= 0.8\n",
      "Columns exceeding threshold (0.8):\n",
      "\t['avglnamtstart24m_4525187A', 'cardtype_51L', 'clientscnt_136L', 'datelastinstal40dpd_247D', 'equalitydataagreement_891L', 'equalityempfrom_62L', 'inittransactionamount_650A', 'interestrategrace_34L', 'isbidproductrequest_292L', 'isdebitcard_729L', 'lastdependentsnum_448L', 'lastotherinc_902A', 'lastotherlnsexpense_631A', 'lastrepayingdate_696D', 'maxannuity_4075009A', 'payvacationpostpone_4187118D', 'validfrom_1069D']\n"
     ]
    }
   ],
   "source": [
    "drop_columns_by_nulls(train_person_2, 0.8, dry_run=True)"
   ]
  },
  {
   "cell_type": "code",
   "execution_count": 13,
   "id": "ef877816-dbbf-45a9-a723-84103a550332",
   "metadata": {},
   "outputs": [
    {
     "name": "stdout",
     "output_type": "stream",
     "text": [
      "Drop columns: 17, Nulls >= 0.8\n",
      "Drop columns: 0, Nulls >= 0.8\n",
      "Drop columns: 0, Nulls >= 0.8\n",
      "Drop columns: 0, Nulls >= 0.8\n",
      "Drop columns: 0, Nulls >= 0.8\n"
     ]
    }
   ],
   "source": [
    "train_static = drop_columns_by_nulls(train_static, 0.80)\n",
    "train_person_1 = drop_columns_by_nulls(train_person_1, 0.80)\n",
    "train_person_2 = drop_columns_by_nulls(train_person_2, 0.80)\n",
    "train_static_cb = drop_columns_by_nulls(train_static_cb, 0.80)\n",
    "train_credit_bureau_b_2 = drop_columns_by_nulls(train_credit_bureau_b_2, 0.80)"
   ]
  },
  {
   "cell_type": "code",
   "execution_count": 14,
   "id": "e702488f-3729-4d9e-833e-a9dcc39d3c9d",
   "metadata": {},
   "outputs": [
    {
     "data": {
      "text/plain": [
       "0"
      ]
     },
     "execution_count": 14,
     "metadata": {},
     "output_type": "execute_result"
    }
   ],
   "source": [
    "gc.collect()"
   ]
  },
  {
   "cell_type": "code",
   "execution_count": 15,
   "id": "a952532f-97bc-4d4c-899c-d7bcdd1a408f",
   "metadata": {},
   "outputs": [
    {
     "data": {
      "text/html": [
       "<div><style>\n",
       ".dataframe > thead > tr,\n",
       ".dataframe > tbody > tr {\n",
       "  text-align: right;\n",
       "  white-space: pre-wrap;\n",
       "}\n",
       "</style>\n",
       "<small>shape: (3, 5)</small><table border=\"1\" class=\"dataframe\"><thead><tr><th>case_id</th><th>date_decision</th><th>MONTH</th><th>WEEK_NUM</th><th>target</th></tr><tr><td>i64</td><td>str</td><td>i64</td><td>i64</td><td>i64</td></tr></thead><tbody><tr><td>0</td><td>&quot;2019-01-03&quot;</td><td>201901</td><td>0</td><td>0</td></tr><tr><td>1</td><td>&quot;2019-01-03&quot;</td><td>201901</td><td>0</td><td>0</td></tr><tr><td>2</td><td>&quot;2019-01-04&quot;</td><td>201901</td><td>0</td><td>0</td></tr></tbody></table></div>"
      ],
      "text/plain": [
       "shape: (3, 5)\n",
       "┌─────────┬───────────────┬────────┬──────────┬────────┐\n",
       "│ case_id ┆ date_decision ┆ MONTH  ┆ WEEK_NUM ┆ target │\n",
       "│ ---     ┆ ---           ┆ ---    ┆ ---      ┆ ---    │\n",
       "│ i64     ┆ str           ┆ i64    ┆ i64      ┆ i64    │\n",
       "╞═════════╪═══════════════╪════════╪══════════╪════════╡\n",
       "│ 0       ┆ 2019-01-03    ┆ 201901 ┆ 0        ┆ 0      │\n",
       "│ 1       ┆ 2019-01-03    ┆ 201901 ┆ 0        ┆ 0      │\n",
       "│ 2       ┆ 2019-01-04    ┆ 201901 ┆ 0        ┆ 0      │\n",
       "└─────────┴───────────────┴────────┴──────────┴────────┘"
      ]
     },
     "execution_count": 15,
     "metadata": {},
     "output_type": "execute_result"
    }
   ],
   "source": [
    "train_basetable.head(3)"
   ]
  },
  {
   "cell_type": "code",
   "execution_count": 16,
   "id": "783e8d48-239d-40dd-9679-098702d8dfea",
   "metadata": {},
   "outputs": [
    {
     "data": {
      "text/html": [
       "<div><style>\n",
       ".dataframe > thead > tr,\n",
       ".dataframe > tbody > tr {\n",
       "  text-align: right;\n",
       "  white-space: pre-wrap;\n",
       "}\n",
       "</style>\n",
       "<small>shape: (3, 11)</small><table border=\"1\" class=\"dataframe\"><thead><tr><th>case_id</th><th>addres_district_368M</th><th>addres_role_871L</th><th>addres_zip_823M</th><th>conts_role_79M</th><th>empls_economicalst_849M</th><th>empls_employedfrom_796D</th><th>empls_employer_name_740M</th><th>num_group1</th><th>num_group2</th><th>relatedpersons_role_762T</th></tr><tr><td>i64</td><td>str</td><td>str</td><td>str</td><td>str</td><td>str</td><td>str</td><td>str</td><td>i64</td><td>i64</td><td>str</td></tr></thead><tbody><tr><td>5</td><td>&quot;a55475b1&quot;</td><td>null</td><td>&quot;a55475b1&quot;</td><td>&quot;a55475b1&quot;</td><td>&quot;a55475b1&quot;</td><td>null</td><td>&quot;a55475b1&quot;</td><td>0</td><td>0</td><td>null</td></tr><tr><td>6</td><td>&quot;P55_110_32&quot;</td><td>&quot;CONTACT&quot;</td><td>&quot;P10_68_40&quot;</td><td>&quot;P38_92_157&quot;</td><td>&quot;P164_110_33&quot;</td><td>null</td><td>&quot;a55475b1&quot;</td><td>0</td><td>0</td><td>null</td></tr><tr><td>6</td><td>&quot;P55_110_32&quot;</td><td>&quot;PERMANENT&quot;</td><td>&quot;P10_68_40&quot;</td><td>&quot;a55475b1&quot;</td><td>&quot;a55475b1&quot;</td><td>null</td><td>&quot;a55475b1&quot;</td><td>0</td><td>1</td><td>null</td></tr></tbody></table></div>"
      ],
      "text/plain": [
       "shape: (3, 11)\n",
       "┌─────────┬───────────────┬───────────────┬───────────────┬───┬───────────────┬────────────┬────────────┬──────────────┐\n",
       "│ case_id ┆ addres_distri ┆ addres_role_8 ┆ addres_zip_82 ┆ … ┆ empls_employe ┆ num_group1 ┆ num_group2 ┆ relatedperso │\n",
       "│ ---     ┆ ct_368M       ┆ 71L           ┆ 3M            ┆   ┆ r_name_740M   ┆ ---        ┆ ---        ┆ ns_role_762T │\n",
       "│ i64     ┆ ---           ┆ ---           ┆ ---           ┆   ┆ ---           ┆ i64        ┆ i64        ┆ ---          │\n",
       "│         ┆ str           ┆ str           ┆ str           ┆   ┆ str           ┆            ┆            ┆ str          │\n",
       "╞═════════╪═══════════════╪═══════════════╪═══════════════╪═══╪═══════════════╪════════════╪════════════╪══════════════╡\n",
       "│ 5       ┆ a55475b1      ┆ null          ┆ a55475b1      ┆ … ┆ a55475b1      ┆ 0          ┆ 0          ┆ null         │\n",
       "│ 6       ┆ P55_110_32    ┆ CONTACT       ┆ P10_68_40     ┆ … ┆ a55475b1      ┆ 0          ┆ 0          ┆ null         │\n",
       "│ 6       ┆ P55_110_32    ┆ PERMANENT     ┆ P10_68_40     ┆ … ┆ a55475b1      ┆ 0          ┆ 1          ┆ null         │\n",
       "└─────────┴───────────────┴───────────────┴───────────────┴───┴───────────────┴────────────┴────────────┴──────────────┘"
      ]
     },
     "execution_count": 16,
     "metadata": {},
     "output_type": "execute_result"
    }
   ],
   "source": [
    "train_person_2.head(3)"
   ]
  },
  {
   "cell_type": "code",
   "execution_count": 17,
   "id": "4116727d-8fba-40bb-b2b0-f12b0ed589b9",
   "metadata": {},
   "outputs": [
    {
     "data": {
      "text/html": [
       "<div><style>\n",
       ".dataframe > thead > tr,\n",
       ".dataframe > tbody > tr {\n",
       "  text-align: right;\n",
       "  white-space: pre-wrap;\n",
       "}\n",
       "</style>\n",
       "<small>shape: (3, 37)</small><table border=\"1\" class=\"dataframe\"><thead><tr><th>case_id</th><th>birth_259D</th><th>birthdate_87D</th><th>childnum_185L</th><th>contaddr_district_15M</th><th>contaddr_matchlist_1032L</th><th>contaddr_smempladdr_334L</th><th>contaddr_zipcode_807M</th><th>education_927M</th><th>empl_employedfrom_271D</th><th>empl_employedtotal_800L</th><th>empl_industry_691L</th><th>empladdr_district_926M</th><th>empladdr_zipcode_114M</th><th>familystate_447L</th><th>gender_992L</th><th>housetype_905L</th><th>housingtype_772L</th><th>incometype_1044T</th><th>isreference_387L</th><th>language1_981M</th><th>mainoccupationinc_384A</th><th>maritalst_703L</th><th>num_group1</th><th>personindex_1023L</th><th>persontype_1072L</th><th>persontype_792L</th><th>registaddr_district_1083M</th><th>registaddr_zipcode_184M</th><th>relationshiptoclient_415T</th><th>relationshiptoclient_642T</th><th>remitter_829L</th><th>role_1084L</th><th>role_993L</th><th>safeguarantyflag_411L</th><th>sex_738L</th><th>type_25L</th></tr><tr><td>i64</td><td>str</td><td>str</td><td>f64</td><td>str</td><td>bool</td><td>bool</td><td>str</td><td>str</td><td>str</td><td>str</td><td>str</td><td>str</td><td>str</td><td>str</td><td>str</td><td>str</td><td>str</td><td>str</td><td>bool</td><td>str</td><td>f64</td><td>str</td><td>i64</td><td>f64</td><td>f64</td><td>f64</td><td>str</td><td>str</td><td>str</td><td>str</td><td>bool</td><td>str</td><td>str</td><td>bool</td><td>str</td><td>str</td></tr></thead><tbody><tr><td>0</td><td>&quot;1986-07-01&quot;</td><td>null</td><td>null</td><td>&quot;P88_18_84&quot;</td><td>false</td><td>false</td><td>&quot;P167_100_165&quot;</td><td>&quot;P97_36_170&quot;</td><td>&quot;2017-09-15&quot;</td><td>&quot;MORE_FIVE&quot;</td><td>&quot;OTHER&quot;</td><td>&quot;P142_57_166&quot;</td><td>&quot;P167_100_165&quot;</td><td>&quot;MARRIED&quot;</td><td>null</td><td>null</td><td>null</td><td>&quot;SALARIED_GOVT&quot;</td><td>null</td><td>&quot;P10_39_147&quot;</td><td>10800.0</td><td>null</td><td>0</td><td>0.0</td><td>1.0</td><td>1.0</td><td>&quot;P88_18_84&quot;</td><td>&quot;P167_100_165&quot;</td><td>null</td><td>null</td><td>null</td><td>&quot;CL&quot;</td><td>null</td><td>true</td><td>&quot;F&quot;</td><td>&quot;PRIMARY_MOBILE…</td></tr><tr><td>0</td><td>null</td><td>null</td><td>null</td><td>&quot;a55475b1&quot;</td><td>null</td><td>null</td><td>&quot;a55475b1&quot;</td><td>&quot;a55475b1&quot;</td><td>null</td><td>null</td><td>null</td><td>&quot;a55475b1&quot;</td><td>&quot;a55475b1&quot;</td><td>null</td><td>null</td><td>null</td><td>null</td><td>null</td><td>null</td><td>&quot;a55475b1&quot;</td><td>null</td><td>null</td><td>1</td><td>1.0</td><td>1.0</td><td>4.0</td><td>&quot;a55475b1&quot;</td><td>&quot;a55475b1&quot;</td><td>&quot;SPOUSE&quot;</td><td>null</td><td>false</td><td>&quot;EM&quot;</td><td>null</td><td>null</td><td>null</td><td>&quot;PHONE&quot;</td></tr><tr><td>0</td><td>null</td><td>null</td><td>null</td><td>&quot;a55475b1&quot;</td><td>null</td><td>null</td><td>&quot;a55475b1&quot;</td><td>&quot;a55475b1&quot;</td><td>null</td><td>null</td><td>null</td><td>&quot;a55475b1&quot;</td><td>&quot;a55475b1&quot;</td><td>null</td><td>null</td><td>null</td><td>null</td><td>null</td><td>null</td><td>&quot;a55475b1&quot;</td><td>null</td><td>null</td><td>2</td><td>2.0</td><td>4.0</td><td>5.0</td><td>&quot;a55475b1&quot;</td><td>&quot;a55475b1&quot;</td><td>&quot;COLLEAGUE&quot;</td><td>&quot;SPOUSE&quot;</td><td>false</td><td>&quot;PE&quot;</td><td>null</td><td>null</td><td>null</td><td>&quot;PHONE&quot;</td></tr></tbody></table></div>"
      ],
      "text/plain": [
       "shape: (3, 37)\n",
       "┌─────────┬────────────┬───────────────┬───────────────┬───┬───────────┬───────────────────┬──────────┬────────────────┐\n",
       "│ case_id ┆ birth_259D ┆ birthdate_87D ┆ childnum_185L ┆ … ┆ role_993L ┆ safeguarantyflag_ ┆ sex_738L ┆ type_25L       │\n",
       "│ ---     ┆ ---        ┆ ---           ┆ ---           ┆   ┆ ---       ┆ 411L              ┆ ---      ┆ ---            │\n",
       "│ i64     ┆ str        ┆ str           ┆ f64           ┆   ┆ str       ┆ ---               ┆ str      ┆ str            │\n",
       "│         ┆            ┆               ┆               ┆   ┆           ┆ bool              ┆          ┆                │\n",
       "╞═════════╪════════════╪═══════════════╪═══════════════╪═══╪═══════════╪═══════════════════╪══════════╪════════════════╡\n",
       "│ 0       ┆ 1986-07-01 ┆ null          ┆ null          ┆ … ┆ null      ┆ true              ┆ F        ┆ PRIMARY_MOBILE │\n",
       "│ 0       ┆ null       ┆ null          ┆ null          ┆ … ┆ null      ┆ null              ┆ null     ┆ PHONE          │\n",
       "│ 0       ┆ null       ┆ null          ┆ null          ┆ … ┆ null      ┆ null              ┆ null     ┆ PHONE          │\n",
       "└─────────┴────────────┴───────────────┴───────────────┴───┴───────────┴───────────────────┴──────────┴────────────────┘"
      ]
     },
     "execution_count": 17,
     "metadata": {},
     "output_type": "execute_result"
    }
   ],
   "source": [
    "train_person_1.head(3)"
   ]
  },
  {
   "cell_type": "code",
   "execution_count": 18,
   "id": "e0d52983-aecc-4886-8d0a-5a0988c10c6f",
   "metadata": {},
   "outputs": [
    {
     "data": {
      "text/html": [
       "<div><style>\n",
       ".dataframe > thead > tr,\n",
       ".dataframe > tbody > tr {\n",
       "  text-align: right;\n",
       "  white-space: pre-wrap;\n",
       "}\n",
       "</style>\n",
       "<small>shape: (8, 11)</small><table border=\"1\" class=\"dataframe\"><thead><tr><th>case_id</th><th>addres_district_368M</th><th>addres_role_871L</th><th>addres_zip_823M</th><th>conts_role_79M</th><th>empls_economicalst_849M</th><th>empls_employedfrom_796D</th><th>empls_employer_name_740M</th><th>num_group1</th><th>num_group2</th><th>relatedpersons_role_762T</th></tr><tr><td>i64</td><td>str</td><td>str</td><td>str</td><td>str</td><td>str</td><td>str</td><td>str</td><td>i64</td><td>i64</td><td>str</td></tr></thead><tbody><tr><td>6</td><td>&quot;P55_110_32&quot;</td><td>&quot;CONTACT&quot;</td><td>&quot;P10_68_40&quot;</td><td>&quot;P38_92_157&quot;</td><td>&quot;P164_110_33&quot;</td><td>null</td><td>&quot;a55475b1&quot;</td><td>0</td><td>0</td><td>null</td></tr><tr><td>6</td><td>&quot;P55_110_32&quot;</td><td>&quot;PERMANENT&quot;</td><td>&quot;P10_68_40&quot;</td><td>&quot;a55475b1&quot;</td><td>&quot;a55475b1&quot;</td><td>null</td><td>&quot;a55475b1&quot;</td><td>0</td><td>1</td><td>null</td></tr><tr><td>6</td><td>&quot;P204_92_178&quot;</td><td>&quot;CONTACT&quot;</td><td>&quot;P65_136_169&quot;</td><td>&quot;P38_92_157&quot;</td><td>&quot;P164_110_33&quot;</td><td>null</td><td>&quot;a55475b1&quot;</td><td>1</td><td>0</td><td>&quot;OTHER_RELATIVE…</td></tr><tr><td>6</td><td>&quot;P191_109_75&quot;</td><td>&quot;CONTACT&quot;</td><td>&quot;P10_68_40&quot;</td><td>&quot;P7_147_157&quot;</td><td>&quot;a55475b1&quot;</td><td>null</td><td>&quot;a55475b1&quot;</td><td>1</td><td>1</td><td>&quot;OTHER_RELATIVE…</td></tr><tr><td>6</td><td>&quot;P204_92_178&quot;</td><td>&quot;CONTACT&quot;</td><td>&quot;P164_28_170&quot;</td><td>&quot;P38_92_157&quot;</td><td>&quot;a55475b1&quot;</td><td>null</td><td>&quot;a55475b1&quot;</td><td>1</td><td>2</td><td>null</td></tr><tr><td>6</td><td>&quot;P55_110_32&quot;</td><td>&quot;PERMANENT&quot;</td><td>&quot;P10_68_40&quot;</td><td>&quot;P38_92_157&quot;</td><td>&quot;a55475b1&quot;</td><td>null</td><td>&quot;a55475b1&quot;</td><td>1</td><td>3</td><td>null</td></tr><tr><td>6</td><td>&quot;P204_92_178&quot;</td><td>&quot;PERMANENT&quot;</td><td>&quot;P65_136_169&quot;</td><td>&quot;a55475b1&quot;</td><td>&quot;a55475b1&quot;</td><td>null</td><td>&quot;a55475b1&quot;</td><td>1</td><td>4</td><td>null</td></tr><tr><td>6</td><td>&quot;P204_92_178&quot;</td><td>&quot;PERMANENT&quot;</td><td>&quot;P164_28_170&quot;</td><td>&quot;a55475b1&quot;</td><td>&quot;a55475b1&quot;</td><td>null</td><td>&quot;a55475b1&quot;</td><td>1</td><td>5</td><td>null</td></tr></tbody></table></div>"
      ],
      "text/plain": [
       "shape: (8, 11)\n",
       "┌─────────┬───────────────┬───────────────┬───────────────┬───┬───────────────┬────────────┬────────────┬──────────────┐\n",
       "│ case_id ┆ addres_distri ┆ addres_role_8 ┆ addres_zip_82 ┆ … ┆ empls_employe ┆ num_group1 ┆ num_group2 ┆ relatedperso │\n",
       "│ ---     ┆ ct_368M       ┆ 71L           ┆ 3M            ┆   ┆ r_name_740M   ┆ ---        ┆ ---        ┆ ns_role_762T │\n",
       "│ i64     ┆ ---           ┆ ---           ┆ ---           ┆   ┆ ---           ┆ i64        ┆ i64        ┆ ---          │\n",
       "│         ┆ str           ┆ str           ┆ str           ┆   ┆ str           ┆            ┆            ┆ str          │\n",
       "╞═════════╪═══════════════╪═══════════════╪═══════════════╪═══╪═══════════════╪════════════╪════════════╪══════════════╡\n",
       "│ 6       ┆ P55_110_32    ┆ CONTACT       ┆ P10_68_40     ┆ … ┆ a55475b1      ┆ 0          ┆ 0          ┆ null         │\n",
       "│ 6       ┆ P55_110_32    ┆ PERMANENT     ┆ P10_68_40     ┆ … ┆ a55475b1      ┆ 0          ┆ 1          ┆ null         │\n",
       "│ 6       ┆ P204_92_178   ┆ CONTACT       ┆ P65_136_169   ┆ … ┆ a55475b1      ┆ 1          ┆ 0          ┆ OTHER_RELATI │\n",
       "│         ┆               ┆               ┆               ┆   ┆               ┆            ┆            ┆ VE           │\n",
       "│ 6       ┆ P191_109_75   ┆ CONTACT       ┆ P10_68_40     ┆ … ┆ a55475b1      ┆ 1          ┆ 1          ┆ OTHER_RELATI │\n",
       "│         ┆               ┆               ┆               ┆   ┆               ┆            ┆            ┆ VE           │\n",
       "│ 6       ┆ P204_92_178   ┆ CONTACT       ┆ P164_28_170   ┆ … ┆ a55475b1      ┆ 1          ┆ 2          ┆ null         │\n",
       "│ 6       ┆ P55_110_32    ┆ PERMANENT     ┆ P10_68_40     ┆ … ┆ a55475b1      ┆ 1          ┆ 3          ┆ null         │\n",
       "│ 6       ┆ P204_92_178   ┆ PERMANENT     ┆ P65_136_169   ┆ … ┆ a55475b1      ┆ 1          ┆ 4          ┆ null         │\n",
       "│ 6       ┆ P204_92_178   ┆ PERMANENT     ┆ P164_28_170   ┆ … ┆ a55475b1      ┆ 1          ┆ 5          ┆ null         │\n",
       "└─────────┴───────────────┴───────────────┴───────────────┴───┴───────────────┴────────────┴────────────┴──────────────┘"
      ]
     },
     "execution_count": 18,
     "metadata": {},
     "output_type": "execute_result"
    }
   ],
   "source": [
    "train_person_2.filter(pl.col('case_id') == 6)"
   ]
  },
  {
   "cell_type": "code",
   "execution_count": 19,
   "id": "64e68b68-f559-4131-84a4-4e79af3f3d43",
   "metadata": {},
   "outputs": [
    {
     "data": {
      "text/html": [
       "<div><style>\n",
       ".dataframe > thead > tr,\n",
       ".dataframe > tbody > tr {\n",
       "  text-align: right;\n",
       "  white-space: pre-wrap;\n",
       "}\n",
       "</style>\n",
       "<small>shape: (3, 3)</small><table border=\"1\" class=\"dataframe\"><thead><tr><th>case_id</th><th>num_group1</th><th>housetype_905L</th></tr><tr><td>i64</td><td>i64</td><td>str</td></tr></thead><tbody><tr><td>1744695</td><td>0</td><td>null</td></tr><tr><td>821590</td><td>2</td><td>null</td></tr><tr><td>8244</td><td>1</td><td>null</td></tr></tbody></table></div>"
      ],
      "text/plain": [
       "shape: (3, 3)\n",
       "┌─────────┬────────────┬────────────────┐\n",
       "│ case_id ┆ num_group1 ┆ housetype_905L │\n",
       "│ ---     ┆ ---        ┆ ---            │\n",
       "│ i64     ┆ i64        ┆ str            │\n",
       "╞═════════╪════════════╪════════════════╡\n",
       "│ 1744695 ┆ 0          ┆ null           │\n",
       "│ 821590  ┆ 2          ┆ null           │\n",
       "│ 8244    ┆ 1          ┆ null           │\n",
       "└─────────┴────────────┴────────────────┘"
      ]
     },
     "execution_count": 19,
     "metadata": {},
     "output_type": "execute_result"
    }
   ],
   "source": [
    "train_person_1.select([\"case_id\", \"num_group1\", \"housetype_905L\"]).sample(3)"
   ]
  },
  {
   "cell_type": "code",
   "execution_count": null,
   "id": "29d62739-f5e3-4375-a164-426fe7b8219f",
   "metadata": {},
   "outputs": [],
   "source": []
  },
  {
   "cell_type": "code",
   "execution_count": null,
   "id": "2c463016-2ca3-4a9f-8958-febfde31b3a3",
   "metadata": {},
   "outputs": [],
   "source": []
  },
  {
   "cell_type": "markdown",
   "id": "fccf69ba-1c28-4756-b8a3-d6f49b1c4725",
   "metadata": {},
   "source": [
    "## Feature Engineering"
   ]
  },
  {
   "cell_type": "code",
   "execution_count": 20,
   "id": "cfb39ee8-0005-4526-9a69-67f35310878b",
   "metadata": {},
   "outputs": [
    {
     "data": {
      "text/plain": [
       "(13861214, 79)"
      ]
     },
     "execution_count": 20,
     "metadata": {},
     "output_type": "execute_result"
    }
   ],
   "source": [
    "train_credit_bureau_b_2.shape"
   ]
  },
  {
   "cell_type": "code",
   "execution_count": 21,
   "id": "447b7dcf-6d07-428d-8309-bdd5acbcda3c",
   "metadata": {},
   "outputs": [],
   "source": [
    "# train_credit_bureau_b_2['pmts_pmtsoverdue_635A']"
   ]
  },
  {
   "cell_type": "code",
   "execution_count": 25,
   "id": "d0f527eb-6b34-4473-a17f-a41e9dd536df",
   "metadata": {},
   "outputs": [],
   "source": [
    "# train_credit_bureau_b_2.columns"
   ]
  },
  {
   "cell_type": "code",
   "execution_count": 26,
   "id": "38b3c631-84ed-46fc-909f-4aa92f7ca0e0",
   "metadata": {},
   "outputs": [
    {
     "ename": "ColumnNotFoundError",
     "evalue": "pmts_pmtsoverdue_635A\n\nError originated just after this operation:\nDF [\"case_id\", \"annualeffectiverate_199L\", \"annualeffectiverate_63L\", \"classificationofcontr_13M\"]; PROJECT */79 COLUMNS; SELECTION: \"None\"",
     "output_type": "error",
     "traceback": [
      "\u001b[1;31m---------------------------------------------------------------------------\u001b[0m",
      "\u001b[1;31mColumnNotFoundError\u001b[0m                       Traceback (most recent call last)",
      "Cell \u001b[1;32mIn[26], line 15\u001b[0m\n\u001b[0;32m     12\u001b[0m \u001b[38;5;28;01mdel\u001b[39;00m train_person_1\n\u001b[0;32m     14\u001b[0m \u001b[38;5;66;03m# Here we have num_goup1 and num_group2, so we need to aggregate again.\u001b[39;00m\n\u001b[1;32m---> 15\u001b[0m train_credit_bureau_b_2_feats \u001b[38;5;241m=\u001b[39m \u001b[43mtrain_credit_bureau_b_2\u001b[49m\u001b[38;5;241;43m.\u001b[39;49m\u001b[43mgroup_by\u001b[49m\u001b[43m(\u001b[49m\u001b[38;5;124;43m\"\u001b[39;49m\u001b[38;5;124;43mcase_id\u001b[39;49m\u001b[38;5;124;43m\"\u001b[39;49m\u001b[43m)\u001b[49m\u001b[38;5;241;43m.\u001b[39;49m\u001b[43magg\u001b[49m\u001b[43m(\u001b[49m\n\u001b[0;32m     16\u001b[0m \u001b[43m    \u001b[49m\u001b[43mpl\u001b[49m\u001b[38;5;241;43m.\u001b[39;49m\u001b[43mcol\u001b[49m\u001b[43m(\u001b[49m\u001b[38;5;124;43m\"\u001b[39;49m\u001b[38;5;124;43mpmts_pmtsoverdue_635A\u001b[39;49m\u001b[38;5;124;43m\"\u001b[39;49m\u001b[43m)\u001b[49m\u001b[38;5;241;43m.\u001b[39;49m\u001b[43mmax\u001b[49m\u001b[43m(\u001b[49m\u001b[43m)\u001b[49m\u001b[38;5;241;43m.\u001b[39;49m\u001b[43malias\u001b[49m\u001b[43m(\u001b[49m\u001b[38;5;124;43m\"\u001b[39;49m\u001b[38;5;124;43mpmts_pmtsoverdue_635A_max\u001b[39;49m\u001b[38;5;124;43m\"\u001b[39;49m\u001b[43m)\u001b[49m\u001b[43m,\u001b[49m\n\u001b[0;32m     17\u001b[0m \u001b[43m    \u001b[49m\u001b[43m(\u001b[49m\u001b[43mpl\u001b[49m\u001b[38;5;241;43m.\u001b[39;49m\u001b[43mcol\u001b[49m\u001b[43m(\u001b[49m\u001b[38;5;124;43m\"\u001b[39;49m\u001b[38;5;124;43mpmts_dpdvalue_108P\u001b[39;49m\u001b[38;5;124;43m\"\u001b[39;49m\u001b[43m)\u001b[49m\u001b[43m \u001b[49m\u001b[38;5;241;43m>\u001b[39;49m\u001b[43m \u001b[49m\u001b[38;5;241;43m31\u001b[39;49m\u001b[43m)\u001b[49m\u001b[38;5;241;43m.\u001b[39;49m\u001b[43mmax\u001b[49m\u001b[43m(\u001b[49m\u001b[43m)\u001b[49m\u001b[38;5;241;43m.\u001b[39;49m\u001b[43malias\u001b[49m\u001b[43m(\u001b[49m\u001b[38;5;124;43m\"\u001b[39;49m\u001b[38;5;124;43mpmts_dpdvalue_108P_over31\u001b[39;49m\u001b[38;5;124;43m\"\u001b[39;49m\u001b[43m)\u001b[49m\n\u001b[0;32m     18\u001b[0m \u001b[43m)\u001b[49m\n\u001b[0;32m     19\u001b[0m \u001b[38;5;28;01mdel\u001b[39;00m train_credit_bureau_b_2\n\u001b[0;32m     21\u001b[0m \u001b[38;5;66;03m# We will process in this examples only A-type and M-type columns, so we need to select them.\u001b[39;00m\n",
      "File \u001b[1;32m~\\.conda\\envs\\isye6740\\Lib\\site-packages\\polars\\dataframe\\group_by.py:250\u001b[0m, in \u001b[0;36mGroupBy.agg\u001b[1;34m(self, *aggs, **named_aggs)\u001b[0m\n\u001b[0;32m    141\u001b[0m \u001b[38;5;28;01mdef\u001b[39;00m \u001b[38;5;21magg\u001b[39m(\n\u001b[0;32m    142\u001b[0m     \u001b[38;5;28mself\u001b[39m,\n\u001b[0;32m    143\u001b[0m     \u001b[38;5;241m*\u001b[39maggs: IntoExpr \u001b[38;5;241m|\u001b[39m Iterable[IntoExpr],\n\u001b[0;32m    144\u001b[0m     \u001b[38;5;241m*\u001b[39m\u001b[38;5;241m*\u001b[39mnamed_aggs: IntoExpr,\n\u001b[0;32m    145\u001b[0m ) \u001b[38;5;241m-\u001b[39m\u001b[38;5;241m>\u001b[39m DataFrame:\n\u001b[0;32m    146\u001b[0m \u001b[38;5;250m    \u001b[39m\u001b[38;5;124;03m\"\"\"\u001b[39;00m\n\u001b[0;32m    147\u001b[0m \u001b[38;5;124;03m    Compute aggregations for each group of a group by operation.\u001b[39;00m\n\u001b[0;32m    148\u001b[0m \n\u001b[1;32m   (...)\u001b[0m\n\u001b[0;32m    244\u001b[0m \u001b[38;5;124;03m    └─────┴───────┴────────────────┘\u001b[39;00m\n\u001b[0;32m    245\u001b[0m \u001b[38;5;124;03m    \"\"\"\u001b[39;00m\n\u001b[0;32m    246\u001b[0m     \u001b[38;5;28;01mreturn\u001b[39;00m (\n\u001b[0;32m    247\u001b[0m         \u001b[38;5;28;43mself\u001b[39;49m\u001b[38;5;241;43m.\u001b[39;49m\u001b[43mdf\u001b[49m\u001b[38;5;241;43m.\u001b[39;49m\u001b[43mlazy\u001b[49m\u001b[43m(\u001b[49m\u001b[43m)\u001b[49m\n\u001b[0;32m    248\u001b[0m \u001b[43m        \u001b[49m\u001b[38;5;241;43m.\u001b[39;49m\u001b[43mgroup_by\u001b[49m\u001b[43m(\u001b[49m\u001b[38;5;241;43m*\u001b[39;49m\u001b[38;5;28;43mself\u001b[39;49m\u001b[38;5;241;43m.\u001b[39;49m\u001b[43mby\u001b[49m\u001b[43m,\u001b[49m\u001b[43m \u001b[49m\u001b[38;5;241;43m*\u001b[39;49m\u001b[38;5;241;43m*\u001b[39;49m\u001b[38;5;28;43mself\u001b[39;49m\u001b[38;5;241;43m.\u001b[39;49m\u001b[43mnamed_by\u001b[49m\u001b[43m,\u001b[49m\u001b[43m \u001b[49m\u001b[43mmaintain_order\u001b[49m\u001b[38;5;241;43m=\u001b[39;49m\u001b[38;5;28;43mself\u001b[39;49m\u001b[38;5;241;43m.\u001b[39;49m\u001b[43mmaintain_order\u001b[49m\u001b[43m)\u001b[49m\n\u001b[0;32m    249\u001b[0m \u001b[43m        \u001b[49m\u001b[38;5;241;43m.\u001b[39;49m\u001b[43magg\u001b[49m\u001b[43m(\u001b[49m\u001b[38;5;241;43m*\u001b[39;49m\u001b[43maggs\u001b[49m\u001b[43m,\u001b[49m\u001b[43m \u001b[49m\u001b[38;5;241;43m*\u001b[39;49m\u001b[38;5;241;43m*\u001b[39;49m\u001b[43mnamed_aggs\u001b[49m\u001b[43m)\u001b[49m\n\u001b[1;32m--> 250\u001b[0m \u001b[43m        \u001b[49m\u001b[38;5;241;43m.\u001b[39;49m\u001b[43mcollect\u001b[49m\u001b[43m(\u001b[49m\u001b[43mno_optimization\u001b[49m\u001b[38;5;241;43m=\u001b[39;49m\u001b[38;5;28;43;01mTrue\u001b[39;49;00m\u001b[43m)\u001b[49m\n\u001b[0;32m    251\u001b[0m     )\n",
      "File \u001b[1;32m~\\.conda\\envs\\isye6740\\Lib\\site-packages\\polars\\lazyframe\\frame.py:1943\u001b[0m, in \u001b[0;36mLazyFrame.collect\u001b[1;34m(self, type_coercion, predicate_pushdown, projection_pushdown, simplify_expression, slice_pushdown, comm_subplan_elim, comm_subexpr_elim, no_optimization, streaming, background, _eager)\u001b[0m\n\u001b[0;32m   1940\u001b[0m \u001b[38;5;28;01mif\u001b[39;00m background:\n\u001b[0;32m   1941\u001b[0m     \u001b[38;5;28;01mreturn\u001b[39;00m InProcessQuery(ldf\u001b[38;5;241m.\u001b[39mcollect_concurrently())\n\u001b[1;32m-> 1943\u001b[0m \u001b[38;5;28;01mreturn\u001b[39;00m wrap_df(ldf\u001b[38;5;241m.\u001b[39mcollect())\n",
      "\u001b[1;31mColumnNotFoundError\u001b[0m: pmts_pmtsoverdue_635A\n\nError originated just after this operation:\nDF [\"case_id\", \"annualeffectiverate_199L\", \"annualeffectiverate_63L\", \"classificationofcontr_13M\"]; PROJECT */79 COLUMNS; SELECTION: \"None\""
     ]
    }
   ],
   "source": [
    "# We need to use aggregation functions in tables with depth > 1, so tables that contain num_group1 column or \n",
    "# also num_group2 column.\n",
    "train_person_1_feats_1 = train_person_1.group_by(\"case_id\").agg(\n",
    "    pl.col(\"mainoccupationinc_384A\").max().alias(\"mainoccupationinc_384A_max\"),\n",
    "    (pl.col(\"incometype_1044T\") == \"SELFEMPLOYED\").max().alias(\"mainoccupationinc_384A_any_selfemployed\")\n",
    ")\n",
    "\n",
    "# Here num_group1=0 has special meaning, it is the person who applied for the loan.\n",
    "train_person_1_feats_2 = train_person_1.select([\"case_id\", \"num_group1\", \"housetype_905L\"]).filter(\n",
    "    pl.col(\"num_group1\") == 0\n",
    ").drop(\"num_group1\").rename({\"housetype_905L\": \"person_housetype\"})\n",
    "del train_person_1\n",
    "\n",
    "# Here we have num_goup1 and num_group2, so we need to aggregate again.\n",
    "train_credit_bureau_b_2_feats = train_credit_bureau_b_2.group_by(\"case_id\").agg(\n",
    "    pl.col(\"pmts_pmtsoverdue_635A\").max().alias(\"pmts_pmtsoverdue_635A_max\"),\n",
    "    (pl.col(\"pmts_dpdvalue_108P\") > 31).max().alias(\"pmts_dpdvalue_108P_over31\")\n",
    ")\n",
    "del train_credit_bureau_b_2\n",
    "\n",
    "# We will process in this examples only A-type and M-type columns, so we need to select them.\n",
    "selected_static_cols = []\n",
    "for col in train_static.columns:\n",
    "    if col[-1] in (\"A\", \"M\"):\n",
    "        selected_static_cols.append(col)\n",
    "print(selected_static_cols)\n",
    "\n",
    "selected_static_cb_cols = []\n",
    "for col in train_static_cb.columns:\n",
    "    if col[-1] in (\"A\", \"M\"):\n",
    "        selected_static_cb_cols.append(col)\n",
    "print(selected_static_cb_cols)\n",
    "\n",
    "# Join all tables together.\n",
    "data = train_basetable.join(\n",
    "    train_static.select([\"case_id\"]+selected_static_cols), how=\"left\", on=\"case_id\"\n",
    ").join(\n",
    "    train_static_cb.select([\"case_id\"]+selected_static_cb_cols), how=\"left\", on=\"case_id\"\n",
    ").join(\n",
    "    train_person_1_feats_1, how=\"left\", on=\"case_id\"\n",
    ").join(\n",
    "    train_person_1_feats_2, how=\"left\", on=\"case_id\"\n",
    ").join(\n",
    "    train_credit_bureau_b_2_feats, how=\"left\", on=\"case_id\"\n",
    ")\n",
    "gc.collect()"
   ]
  },
  {
   "cell_type": "code",
   "execution_count": 11,
   "id": "812a0b38-fe10-489b-bb78-7f7aeb1772d6",
   "metadata": {},
   "outputs": [
    {
     "data": {
      "text/plain": [
       "0"
      ]
     },
     "execution_count": 11,
     "metadata": {},
     "output_type": "execute_result"
    }
   ],
   "source": [
    "del train_basetable, train_static, train_static_cb, train_person_1_feats_2, train_person_1_feats_1, train_credit_bureau_b_2_feats, selected_static_cols, selected_static_cb_cols\n",
    "gc.collect()"
   ]
  },
  {
   "cell_type": "code",
   "execution_count": 12,
   "id": "712b1888-2703-4cdb-8484-b6e57da5d0f9",
   "metadata": {},
   "outputs": [
    {
     "data": {
      "text/plain": [
       "0"
      ]
     },
     "execution_count": 12,
     "metadata": {},
     "output_type": "execute_result"
    }
   ],
   "source": [
    "case_ids = data[\"case_id\"].unique().shuffle(seed=1)\n",
    "# NOTE, need to convert above variable into numpy array\n",
    "case_ids_train, case_ids_test = train_test_split(case_ids.to_numpy(), train_size=0.6, random_state=1)\n",
    "case_ids_valid, case_ids_test = train_test_split(case_ids_test, train_size=0.5, random_state=1)\n",
    "del case_ids\n",
    "gc.collect()"
   ]
  },
  {
   "cell_type": "code",
   "execution_count": 13,
   "id": "ddb7307f-76bc-4923-b2ff-be45661604f9",
   "metadata": {},
   "outputs": [
    {
     "name": "stdout",
     "output_type": "stream",
     "text": [
      "['amtinstpaidbefduel24m_4187115A', 'annuity_780A', 'annuitynextmonth_57A', 'avginstallast24m_3658937A', 'avglnamtstart24m_4525187A', 'avgoutstandbalancel6m_4187114A', 'avgpmtlast12m_4525200A', 'credamount_770A', 'currdebt_22A', 'currdebtcredtyperange_828A', 'disbursedcredamount_1113A', 'downpmt_116A', 'inittransactionamount_650A', 'lastapprcommoditycat_1041M', 'lastapprcommoditytypec_5251766M', 'lastapprcredamount_781A', 'lastcancelreason_561M', 'lastotherinc_902A', 'lastotherlnsexpense_631A', 'lastrejectcommoditycat_161M', 'lastrejectcommodtypec_5251769M', 'lastrejectcredamount_222A', 'lastrejectreason_759M', 'lastrejectreasonclient_4145040M', 'maininc_215A', 'maxannuity_159A', 'maxannuity_4075009A', 'maxdebt4_972A', 'maxinstallast24m_3658928A', 'maxlnamtstart6m_4525199A', 'maxoutstandbalancel12m_4187113A', 'maxpmtlast3m_4525190A', 'previouscontdistrict_112M', 'price_1097A', 'sumoutstandtotal_3546847A', 'sumoutstandtotalest_4493215A', 'totaldebt_9A', 'totalsettled_863A', 'totinstallast1m_4525188A', 'description_5085714M', 'education_1103M', 'education_88M', 'maritalst_385M', 'maritalst_893M', 'pmtaverage_3A', 'pmtaverage_4527227A', 'pmtaverage_4955615A', 'pmtssum_45A']\n"
     ]
    }
   ],
   "source": [
    "cols_pred = []\n",
    "for col in data.columns:\n",
    "    if col[-1].isupper() and col[:-1].islower():\n",
    "        cols_pred.append(col)\n",
    "\n",
    "print(cols_pred)\n",
    "\n",
    "def from_polars_to_pandas(case_ids: pl.DataFrame) -> pl.DataFrame:\n",
    "    return (\n",
    "        data.filter(pl.col(\"case_id\").is_in(case_ids))[[\"case_id\", \"WEEK_NUM\", \"target\"]].to_pandas(),\n",
    "        data.filter(pl.col(\"case_id\").is_in(case_ids))[cols_pred].to_pandas(),\n",
    "        data.filter(pl.col(\"case_id\").is_in(case_ids))[\"target\"].to_pandas()\n",
    "    )\n",
    "\n",
    "base_train, X_train, y_train = from_polars_to_pandas(case_ids_train)\n",
    "base_valid, X_valid, y_valid = from_polars_to_pandas(case_ids_valid)\n",
    "base_test, X_test, y_test = from_polars_to_pandas(case_ids_test)\n",
    "\n",
    "for df in [X_train, X_valid, X_test]:\n",
    "    df = convert_strings(df)"
   ]
  },
  {
   "cell_type": "code",
   "execution_count": 66,
   "id": "e8b5ea81-49e1-44ae-9cd0-c5c527bca28c",
   "metadata": {},
   "outputs": [
    {
     "data": {
      "text/plain": [
       "17710"
      ]
     },
     "execution_count": 66,
     "metadata": {},
     "output_type": "execute_result"
    }
   ],
   "source": [
    "del df\n",
    "gc.collect()"
   ]
  },
  {
   "cell_type": "code",
   "execution_count": 15,
   "id": "0f7d5485-c90d-4c9e-b7b4-45c5d59b40f1",
   "metadata": {},
   "outputs": [
    {
     "name": "stdout",
     "output_type": "stream",
     "text": [
      "Train: (915995, 48)\n",
      "Valid: (305332, 48)\n",
      "Test: (305332, 48)\n"
     ]
    }
   ],
   "source": [
    "print(f\"Train: {X_train.shape}\")\n",
    "print(f\"Valid: {X_valid.shape}\")\n",
    "print(f\"Test: {X_test.shape}\")"
   ]
  },
  {
   "cell_type": "markdown",
   "id": "2f2f8952-0bff-44b3-9afb-2e28c1661d3e",
   "metadata": {},
   "source": [
    "## Train Model"
   ]
  },
  {
   "cell_type": "markdown",
   "id": "7966826e-6b7a-4aea-a577-1a9a3680652d",
   "metadata": {},
   "source": [
    "**TODO:**\n",
    "- metric: try other metrics\n",
    "- predicttions:\n",
    "  - what is the output?\n",
    "  - how to convert into binary or probabilities to correctly evalaute precision, recall, and F1 scores?"
   ]
  },
  {
   "cell_type": "code",
   "execution_count": 86,
   "id": "91146562-12c3-4cbe-8e9a-679ae530b141",
   "metadata": {},
   "outputs": [
    {
     "name": "stderr",
     "output_type": "stream",
     "text": [
      "C:\\Users\\smouz\\.conda\\envs\\isye6740\\Lib\\site-packages\\lightgbm\\engine.py:172: UserWarning: Found `n_estimators` in params. Will use it instead of argument\n",
      "  _log_warning(f\"Found `{alias}` in params. Will use it instead of argument\")\n"
     ]
    },
    {
     "name": "stdout",
     "output_type": "stream",
     "text": [
      "Training until validation scores don't improve for 8 rounds\n",
      "[50]\tvalid_0's auc: 0.715839\n",
      "[100]\tvalid_0's auc: 0.728213\n",
      "[150]\tvalid_0's auc: 0.733725\n",
      "[200]\tvalid_0's auc: 0.737732\n",
      "[250]\tvalid_0's auc: 0.740725\n",
      "[300]\tvalid_0's auc: 0.742567\n",
      "[350]\tvalid_0's auc: 0.744519\n",
      "[400]\tvalid_0's auc: 0.746128\n",
      "[450]\tvalid_0's auc: 0.747383\n",
      "[500]\tvalid_0's auc: 0.748473\n",
      "[550]\tvalid_0's auc: 0.749145\n",
      "[600]\tvalid_0's auc: 0.749833\n",
      "[650]\tvalid_0's auc: 0.750607\n",
      "[700]\tvalid_0's auc: 0.751741\n",
      "[750]\tvalid_0's auc: 0.752269\n",
      "[800]\tvalid_0's auc: 0.752785\n",
      "[850]\tvalid_0's auc: 0.753432\n",
      "Early stopping, best iteration is:\n",
      "[875]\tvalid_0's auc: 0.753813\n"
     ]
    }
   ],
   "source": [
    "print(gc.collect())\n",
    "lgb_train = lgb.Dataset(X_train, label=y_train)\n",
    "lgb_valid = lgb.Dataset(X_valid, label=y_valid, reference=lgb_train)\n",
    "\n",
    "params = {\n",
    "    \"boosting_type\": \"gbdt\",\n",
    "    \"objective\": \"binary\",\n",
    "    \"is_unbalance\": \"true\",\n",
    "    \"metric\": \"auc\",\n",
    "    \"max_depth\": 3,\n",
    "    \"num_leaves\": 31,\n",
    "    \"learning_rate\": 0.05,\n",
    "    \"feature_fraction\": 0.9,\n",
    "    \"bagging_fraction\": 0.8,\n",
    "    \"bagging_freq\": 5,\n",
    "    \"n_estimators\": 1000,\n",
    "    \"verbose\": -1,\n",
    "}\n",
    "\n",
    "gbm = lgb.train(\n",
    "    params,\n",
    "    lgb_train,\n",
    "    valid_sets=lgb_valid,\n",
    "    callbacks=[lgb.log_evaluation(50), lgb.early_stopping(8)]\n",
    ")"
   ]
  },
  {
   "cell_type": "code",
   "execution_count": 87,
   "id": "6b15c9d7-46fa-40e6-a63d-6fe1c9e66748",
   "metadata": {},
   "outputs": [
    {
     "data": {
      "text/plain": [
       "25"
      ]
     },
     "execution_count": 87,
     "metadata": {},
     "output_type": "execute_result"
    }
   ],
   "source": [
    "for base, X in [(base_train, X_train), (base_valid, X_valid), (base_test, X_test)]:\n",
    "    # y_pred = gbm.predict(X, num_iteration=gbm.best_iteration)\n",
    "    y_pred = gbm.predict(X, num_iteration=gbm.best_iteration)\n",
    "    base[\"pred\"] = y_pred\n",
    "del base, X\n",
    "gc.collect()"
   ]
  },
  {
   "cell_type": "code",
   "execution_count": 88,
   "id": "19267b2b-8c02-4cb9-9a30-2eb8e0ef9909",
   "metadata": {},
   "outputs": [],
   "source": [
    "# help(gbm.predict)"
   ]
  },
  {
   "cell_type": "code",
   "execution_count": 89,
   "id": "a88a38da-1bc6-4c1c-95d0-b28d29e62b0c",
   "metadata": {},
   "outputs": [
    {
     "data": {
      "text/html": [
       "<div>\n",
       "<style scoped>\n",
       "    .dataframe tbody tr th:only-of-type {\n",
       "        vertical-align: middle;\n",
       "    }\n",
       "\n",
       "    .dataframe tbody tr th {\n",
       "        vertical-align: top;\n",
       "    }\n",
       "\n",
       "    .dataframe thead th {\n",
       "        text-align: right;\n",
       "    }\n",
       "</style>\n",
       "<table border=\"1\" class=\"dataframe\">\n",
       "  <thead>\n",
       "    <tr style=\"text-align: right;\">\n",
       "      <th></th>\n",
       "      <th>auc</th>\n",
       "      <th>f1</th>\n",
       "      <th>precision</th>\n",
       "      <th>recall</th>\n",
       "    </tr>\n",
       "  </thead>\n",
       "  <tbody>\n",
       "    <tr>\n",
       "      <th>train</th>\n",
       "      <td>0.769118</td>\n",
       "      <td>0.125179</td>\n",
       "      <td>0.068752</td>\n",
       "      <td>0.698254</td>\n",
       "    </tr>\n",
       "    <tr>\n",
       "      <th>valid</th>\n",
       "      <td>0.753813</td>\n",
       "      <td>0.118632</td>\n",
       "      <td>0.065037</td>\n",
       "      <td>0.674327</td>\n",
       "    </tr>\n",
       "    <tr>\n",
       "      <th>test</th>\n",
       "      <td>0.750145</td>\n",
       "      <td>0.120891</td>\n",
       "      <td>0.066420</td>\n",
       "      <td>0.672004</td>\n",
       "    </tr>\n",
       "  </tbody>\n",
       "</table>\n",
       "</div>"
      ],
      "text/plain": [
       "            auc        f1  precision    recall\n",
       "train  0.769118  0.125179   0.068752  0.698254\n",
       "valid  0.753813  0.118632   0.065037  0.674327\n",
       "test   0.750145  0.120891   0.066420  0.672004"
      ]
     },
     "execution_count": 89,
     "metadata": {},
     "output_type": "execute_result"
    }
   ],
   "source": [
    "# NOTE, for F1 score need to convert into binary output from probabilities\n",
    "auc_train = roc_auc_score(base_train[\"target\"], base_train[\"pred\"])\n",
    "auc_valid = roc_auc_score(base_valid[\"target\"], base_valid[\"pred\"])\n",
    "auc_test = roc_auc_score(base_test[\"target\"], base_test[\"pred\"])\n",
    "\n",
    "threshold = 0.5\n",
    "\n",
    "eval_df = pd.DataFrame(index=['train', 'valid', 'test'])\n",
    "for name, df in (('train', base_train), ('valid', base_valid), ('test', base_test)):\n",
    "    eval_df.loc[name, 'auc'] = roc_auc_score(df[\"target\"], df[\"pred\"])\n",
    "    eval_df.loc[name,'f1'] = f1_score(df[\"target\"], np.where(df[\"pred\"] > threshold, 1, 0))\n",
    "    eval_df.loc[name,'precision'] = precision_score(df[\"target\"], np.where(df[\"pred\"] > threshold, 1, 0))\n",
    "    eval_df.loc[name,'recall'] = recall_score(df[\"target\"], np.where(df[\"pred\"] > threshold, 1, 0))\n",
    "\n",
    "eval_df"
   ]
  },
  {
   "cell_type": "code",
   "execution_count": null,
   "id": "ed101803-7b44-44d6-97eb-6bccb83cae78",
   "metadata": {},
   "outputs": [],
   "source": []
  },
  {
   "cell_type": "code",
   "execution_count": 90,
   "id": "e67eb756-0c7a-4480-9cdb-604da53b55c0",
   "metadata": {},
   "outputs": [
    {
     "name": "stdout",
     "output_type": "stream",
     "text": [
      "The stability score on the train set is: 0.4963348065611609\n",
      "The stability score on the valid set is: 0.47224260766376086\n",
      "The stability score on the test set is: 0.45759281450065276\n"
     ]
    }
   ],
   "source": [
    "def gini_stability(base, w_fallingrate=88.0, w_resstd=-0.5):\n",
    "    gini_in_time = base.loc[:, [\"WEEK_NUM\", \"target\", \"score\"]]\\\n",
    "        .sort_values(\"WEEK_NUM\")\\\n",
    "        .groupby(\"WEEK_NUM\")[[\"target\", \"score\"]]\\\n",
    "        .apply(lambda x: 2*roc_auc_score(x[\"target\"], x[\"score\"])-1).tolist()\n",
    "    \n",
    "    x = np.arange(len(gini_in_time))\n",
    "    y = gini_in_time\n",
    "    a, b = np.polyfit(x, y, 1)\n",
    "    y_hat = a*x + b\n",
    "    residuals = y - y_hat\n",
    "    res_std = np.std(residuals)\n",
    "    avg_gini = np.mean(gini_in_time)\n",
    "    return avg_gini + w_fallingrate * min(0, a) + w_resstd * res_std\n",
    "\n",
    "stability_score_train = gini_stability(base_train)\n",
    "stability_score_valid = gini_stability(base_valid)\n",
    "stability_score_test = gini_stability(base_test)\n",
    "\n",
    "print(f'The stability score on the train set is: {stability_score_train}') \n",
    "print(f'The stability score on the valid set is: {stability_score_valid}') \n",
    "print(f'The stability score on the test set is: {stability_score_test}')  "
   ]
  },
  {
   "cell_type": "code",
   "execution_count": null,
   "id": "3821ff93-3193-4a00-800a-1b1b380b2b7c",
   "metadata": {},
   "outputs": [],
   "source": []
  },
  {
   "cell_type": "code",
   "execution_count": null,
   "id": "aa2986a1-7594-4eed-817b-bd210eff8775",
   "metadata": {},
   "outputs": [],
   "source": []
  }
 ],
 "metadata": {
  "kernelspec": {
   "display_name": "Python 3 (ipykernel)",
   "language": "python",
   "name": "python3"
  },
  "language_info": {
   "codemirror_mode": {
    "name": "ipython",
    "version": 3
   },
   "file_extension": ".py",
   "mimetype": "text/x-python",
   "name": "python",
   "nbconvert_exporter": "python",
   "pygments_lexer": "ipython3",
   "version": "3.11.7"
  }
 },
 "nbformat": 4,
 "nbformat_minor": 5
}
